{
  "cells": [
    {
      "cell_type": "markdown",
      "source": [
        "# ELL793 Assignment 2\n",
        "## Problem 2"
      ],
      "metadata": {
        "id": "J1q4F0CATEkO"
      }
    },
    {
      "cell_type": "markdown",
      "source": [
        "### Part A\n",
        "\n",
        "Train CNN with ResNet-18 as backbone with the CIFAR10 dataset."
      ],
      "metadata": {
        "id": "d4rB5c09TRXr"
      }
    },
    {
      "cell_type": "markdown",
      "metadata": {
        "id": "Q7lnVO8v_vuf"
      },
      "source": [
        "#### Importing libraries"
      ]
    },
    {
      "cell_type": "code",
      "execution_count": null,
      "metadata": {
        "id": "U_z4p5Hu_vui"
      },
      "outputs": [],
      "source": [
        "import torch\n",
        "\n",
        "import torchvision\n",
        "from torchvision import *\n",
        "import torchvision.transforms as transforms\n",
        "\n",
        "import torch.nn as nn\n",
        "import torch.optim as optim\n",
        "import torch.nn.functional as F\n",
        "from torch.utils.data import Dataset, DataLoader\n",
        "\n",
        "\n",
        "from functools import partial       # have\n",
        "from dataclasses import dataclass   # to\n",
        "from collections import OrderedDict # remove these\n",
        "\n",
        "\n",
        "from torch.utils.data import Dataset, DataLoader\n",
        "\n",
        "import matplotlib.pyplot as plt\n",
        "import numpy as np"
      ]
    },
    {
      "cell_type": "markdown",
      "source": [
        "Machine Info."
      ],
      "metadata": {
        "id": "mxODyxS3UFnj"
      }
    },
    {
      "cell_type": "code",
      "source": [
        "!nvidia-smi"
      ],
      "metadata": {
        "colab": {
          "base_uri": "https://localhost:8080/"
        },
        "id": "3odA_WnCUH42",
        "outputId": "1d4af658-7f2a-4209-bba4-f62a20006a39"
      },
      "execution_count": null,
      "outputs": [
        {
          "output_type": "stream",
          "name": "stdout",
          "text": [
            "Mon Feb 28 15:17:49 2022       \n",
            "+-----------------------------------------------------------------------------+\n",
            "| NVIDIA-SMI 460.32.03    Driver Version: 460.32.03    CUDA Version: 11.2     |\n",
            "|-------------------------------+----------------------+----------------------+\n",
            "| GPU  Name        Persistence-M| Bus-Id        Disp.A | Volatile Uncorr. ECC |\n",
            "| Fan  Temp  Perf  Pwr:Usage/Cap|         Memory-Usage | GPU-Util  Compute M. |\n",
            "|                               |                      |               MIG M. |\n",
            "|===============================+======================+======================|\n",
            "|   0  Tesla K80           Off  | 00000000:00:04.0 Off |                    0 |\n",
            "| N/A   73C    P0    72W / 149W |   1458MiB / 11441MiB |      0%      Default |\n",
            "|                               |                      |                  N/A |\n",
            "+-------------------------------+----------------------+----------------------+\n",
            "                                                                               \n",
            "+-----------------------------------------------------------------------------+\n",
            "| Processes:                                                                  |\n",
            "|  GPU   GI   CI        PID   Type   Process name                  GPU Memory |\n",
            "|        ID   ID                                                   Usage      |\n",
            "|=============================================================================|\n",
            "+-----------------------------------------------------------------------------+\n"
          ]
        }
      ]
    },
    {
      "cell_type": "markdown",
      "source": [
        "Checking if CUDA is available."
      ],
      "metadata": {
        "id": "gAXKroPMTz0x"
      }
    },
    {
      "cell_type": "code",
      "source": [
        "print('CUDA available:', torch.cuda.is_available())"
      ],
      "metadata": {
        "colab": {
          "base_uri": "https://localhost:8080/"
        },
        "id": "TeSKIYgZTBkA",
        "outputId": "49d2f764-8b66-4335-e8ad-9e3d4582f4c6"
      },
      "execution_count": null,
      "outputs": [
        {
          "output_type": "stream",
          "name": "stdout",
          "text": [
            "CUDA available: True\n"
          ]
        }
      ]
    },
    {
      "cell_type": "markdown",
      "metadata": {
        "id": "HbqkjNQc_vuj"
      },
      "source": [
        "# Importing CIFAR-10 dataset\n",
        "We use transforms to transform the PIL image with range [0, 1] to tensors of normalized range [-1, 1]."
      ]
    },
    {
      "cell_type": "code",
      "execution_count": null,
      "metadata": {
        "id": "nji4BHf3_vuk"
      },
      "outputs": [],
      "source": [
        "transform = transforms.Compose(\n",
        "    [transforms.ToTensor(), \n",
        "     transforms.Normalize((0.5, 0.5, 0.5), (0.5, 0.5, 0.5))\n",
        "    ]\n",
        ")"
      ]
    },
    {
      "cell_type": "code",
      "execution_count": null,
      "metadata": {
        "colab": {
          "base_uri": "https://localhost:8080/"
        },
        "id": "CiMHaW63_vuk",
        "outputId": "cc9310ab-a90f-4191-a105-ab8ceb72b911"
      },
      "outputs": [
        {
          "output_type": "stream",
          "name": "stdout",
          "text": [
            "Files already downloaded and verified\n"
          ]
        },
        {
          "output_type": "stream",
          "name": "stderr",
          "text": [
            "/usr/local/lib/python3.7/dist-packages/torch/utils/data/dataloader.py:481: UserWarning: This DataLoader will create 4 worker processes in total. Our suggested max number of worker in current system is 2, which is smaller than what this DataLoader is going to create. Please be aware that excessive worker creation might get DataLoader running slow or even freeze, lower the worker number to avoid potential slowness/freeze if necessary.\n",
            "  cpuset_checked))\n"
          ]
        },
        {
          "output_type": "stream",
          "name": "stdout",
          "text": [
            "Files already downloaded and verified\n"
          ]
        }
      ],
      "source": [
        "batch_size = 512\n",
        "\n",
        "train_set = torchvision.datasets.CIFAR10(root = './data',\n",
        "                                         train = True,\n",
        "                                          download = True,\n",
        "                                         transform = transform)\n",
        "\n",
        "train_loader = torch.utils.data.DataLoader(train_set,\n",
        "                                           batch_size = batch_size,\n",
        "                                          shuffle = True, \n",
        "                                          num_workers = 4)\n",
        "\n",
        "val_set = torchvision.datasets.CIFAR10(root = './data',\n",
        "                                         train = False,\n",
        "                                       download = True,\n",
        "                                         transform = transform)\n",
        "\n",
        "val_loader = torch.utils.data.DataLoader(val_set,\n",
        "                                           batch_size = batch_size,\n",
        "                                          shuffle = True, \n",
        "                                          num_workers = 4)"
      ]
    },
    {
      "cell_type": "code",
      "execution_count": null,
      "metadata": {
        "id": "P_wvGAy8_vul"
      },
      "outputs": [],
      "source": [
        "classes = ('plane', 'car', 'bird', 'cat', 'deer', 'dog',\n",
        "          'frog', 'horse', 'ship', 'truck')"
      ]
    },
    {
      "cell_type": "markdown",
      "metadata": {
        "id": "Yh860Mfb_vum"
      },
      "source": [
        "Plotting some of the images from dataset."
      ]
    },
    {
      "cell_type": "code",
      "source": [
        "num_images = 5\n",
        "\n",
        "def plotImage(img, label):\n",
        "  # denormalizes and reshapes the images, and then plots them\n",
        "  img = img/2 + 0.5   #denormalize\n",
        "  np_img = img.numpy()\n",
        "  plt.imshow(np.transpose(np_img, (1, 2, 0)))\n",
        "  plt.title(classes[label])\n",
        "  plt.show()\n",
        "\n",
        "\n",
        "for i in range(num_images):\n",
        "  img, label = train_set[i]\n",
        "  plotImage(img, label)"
      ],
      "metadata": {
        "colab": {
          "base_uri": "https://localhost:8080/",
          "height": 1000
        },
        "id": "XkZVIO-aCrfg",
        "outputId": "cc5761af-ad0c-4cbf-cd9b-c707b81155cb"
      },
      "execution_count": null,
      "outputs": [
        {
          "output_type": "display_data",
          "data": {
            "image/png": "[encoded data removed]",
            "text/plain": [
              "<Figure size 432x288 with 1 Axes>"
            ]
          },
          "metadata": {
            "needs_background": "light"
          }
        },
        {
          "output_type": "display_data",
          "data": {
            "image/png": "[encoded data removed]",
            "text/plain": [
              "<Figure size 432x288 with 1 Axes>"
            ]
          },
          "metadata": {
            "needs_background": "light"
          }
        },
        {
          "output_type": "display_data",
          "data": {
            "image/png": "[encoded data removed]",
            "text/plain": [
              "<Figure size 432x288 with 1 Axes>"
            ]
          },
          "metadata": {
            "needs_background": "light"
          }
        },
        {
          "output_type": "display_data",
          "data": {
            "image/png": "[encoded data removed]",
            "text/plain": [
              "<Figure size 432x288 with 1 Axes>"
            ]
          },
          "metadata": {
            "needs_background": "light"
          }
        },
        {
          "output_type": "display_data",
          "data": {
            "image/png": "[encoded data removed]",
            "text/plain": [
              "<Figure size 432x288 with 1 Axes>"
            ]
          },
          "metadata": {
            "needs_background": "light"
          }
        }
      ]
    },
    {
      "cell_type": "markdown",
      "metadata": {
        "id": "s2sTpzSH_vun"
      },
      "source": [
        "# ResNet18"
      ]
    },
    {
      "cell_type": "code",
      "execution_count": null,
      "metadata": {
        "colab": {
          "base_uri": "https://localhost:8080/"
        },
        "id": "db6uTxsH_vup",
        "outputId": "0c903f81-d3bc-4672-c1b2-29349a4d0414"
      },
      "outputs": [
        {
          "output_type": "stream",
          "name": "stdout",
          "text": [
            "cuda:0\n"
          ]
        }
      ],
      "source": [
        "device = torch.device('cuda:0' if torch.cuda.is_available() else 'cpu')\n",
        "print(device)"
      ]
    },
    {
      "cell_type": "markdown",
      "source": [
        "Loading ResNet18."
      ],
      "metadata": {
        "id": "z3L0i8-iX2sQ"
      }
    },
    {
      "cell_type": "code",
      "execution_count": null,
      "metadata": {
        "id": "iEi1_fZt_vuq"
      },
      "outputs": [],
      "source": [
        "resnet18 = models.resnet18(pretrained=False, progress = True)\n",
        "resnet18=resnet18.to(device)"
      ]
    },
    {
      "cell_type": "markdown",
      "source": [
        "Parameters:"
      ],
      "metadata": {
        "id": "U6UznrucXWpd"
      }
    },
    {
      "cell_type": "code",
      "source": [
        "batch_size = 512\n",
        "num_epochs = 50\n",
        "\n",
        "val_batch_size = 1000\n",
        "\n",
        "# SGD Parameters\n",
        "lr = 5e-2\n",
        "momentum = 0.9\n",
        "weight_decay = 5e-4"
      ],
      "metadata": {
        "id": "BXPSP6V0XYvu"
      },
      "execution_count": null,
      "outputs": []
    },
    {
      "cell_type": "markdown",
      "source": [
        "Loss function, optimizer and schedular."
      ],
      "metadata": {
        "id": "8zpZfNCH1II9"
      }
    },
    {
      "cell_type": "code",
      "source": [
        "loss_func = torch.nn.CrossEntropyLoss()\n",
        "optimizer = torch.optim.SGD(resnet18.parameters(), lr=lr, momentum = momentum, weight_decay = weight_decay) # can I change this? @jayesh\n",
        "scheduler = torch.optim.lr_scheduler.CosineAnnealingLR(optimizer, T_max=100) # what this does @jayesh"
      ],
      "metadata": {
        "id": "5Flr5smVFNKw"
      },
      "execution_count": null,
      "outputs": []
    },
    {
      "cell_type": "markdown",
      "source": [
        "#### Training the network"
      ],
      "metadata": {
        "id": "u87tqBLQ1YSF"
      }
    },
    {
      "cell_type": "code",
      "source": [
        "# initializing the accuracy lists\n",
        "train_accuracy = []\n",
        "val_accuracy = []\n",
        "epochs=[] # simply contains [i for in in range(num_epochs)]\n",
        "\n",
        "max_validation = 0 # stores maximum validation accuracy\n",
        "max_epoch=0 # stores epoch corresponding to max accuracy"
      ],
      "metadata": {
        "id": "jjV902uBFVzB"
      },
      "execution_count": null,
      "outputs": []
    },
    {
      "cell_type": "code",
      "source": [
        "def forward(loader, model, device, loss_func, optimizer):\n",
        "  \"\"\"\n",
        "    this function performs a forward pass for the given model (neural network).\n",
        "    loader : train_loader\n",
        "    model : resnet18\n",
        "    device : cpu or cuda:0\n",
        "    loss_func : torch.nn.CrossEntropyLoss()\n",
        "    optimizer : torch.optim.SGD(resnet18.parameters(), lr=lr, momentum = momentum, weight_decay = weight_decay)\n",
        "  \"\"\"\n",
        "  for imgs, labels in loader:\n",
        "    if device is not None:\n",
        "      imgs, labels = imgs.to(device), labels.to(device)\n",
        "\n",
        "    outputs = model(imgs)\n",
        "\n",
        "    loss = loss_func( outputs, labels)\n",
        "    optimizer.zero_grad()\n",
        "    loss.backward()\n",
        "    optimizer.step()\n",
        "  return loss"
      ],
      "metadata": {
        "id": "wgy6UZnCyvW4"
      },
      "execution_count": null,
      "outputs": []
    },
    {
      "cell_type": "code",
      "source": [
        "def getAccuracy(loader, model, device):\n",
        "  \"\"\"\n",
        "    this function calculates accuracy for training or validation data.\n",
        "    loader : train_loader/val_loader\n",
        "    model : resnet18\n",
        "    device : cpu or cuda:0\n",
        "  \"\"\"\n",
        "  total = 0\n",
        "  correct = 0\n",
        "  for imgs, labels in loader:\n",
        "    if device is not None:\n",
        "      imgs,labels=imgs.to(device),labels.to(device)\n",
        "    outputs = model(imgs) \n",
        "    _, predicted = torch.max(outputs, dim=1) \n",
        "    total += labels.shape[0]\n",
        "    correct += int((predicted == labels).sum())\n",
        "  accuracy = correct/total\n",
        "\n",
        "  return accuracy\n"
      ],
      "metadata": {
        "id": "_x84K5ViwBvf"
      },
      "execution_count": null,
      "outputs": []
    },
    {
      "cell_type": "code",
      "source": [
        "for i in range(1, num_epochs+1):\n",
        "\n",
        "  loss = forward(train_loader, resnet18, device, loss_func, optimizer)\n",
        "\n",
        "  with torch.no_grad():\n",
        "    curr_val_acc = getAccuracy(val_loader, resnet18, device)\n",
        "    val_accuracy.append(curr_val_acc)\n",
        "\n",
        "    curr_train_acc = getAccuracy(train_loader, resnet18, device)\n",
        "    train_accuracy.append(curr_train_acc)\n",
        "    \n",
        "    if curr_val_acc > max_validation:\n",
        "      max_validation = curr_val_acc\n",
        "      max_epoch=i\n",
        "      torch.save(resnet18,'./scratch.pt' )\n",
        "  epochs.append(i)\n",
        "  if i%1==0: #can change this if we want to print epoch accuracies less often\n",
        "    print(\"Epoch: %d, Loss: %f\" % (i, float(loss)))\n",
        "    print(\"Train Accuracy: \", curr_train_acc)\n",
        "    print(\"Validation Accuracy: \", curr_val_acc)\n",
        "  \n",
        "  scheduler.step()"
      ],
      "metadata": {
        "colab": {
          "base_uri": "https://localhost:8080/"
        },
        "id": "F9qPYxtaFXRK",
        "outputId": "4727b5c1-962b-4d5c-8413-88b0f0b6af8b"
      },
      "execution_count": null,
      "outputs": [
        {
          "output_type": "stream",
          "name": "stderr",
          "text": [
            "/usr/local/lib/python3.7/dist-packages/torch/utils/data/dataloader.py:481: UserWarning: This DataLoader will create 4 worker processes in total. Our suggested max number of worker in current system is 2, which is smaller than what this DataLoader is going to create. Please be aware that excessive worker creation might get DataLoader running slow or even freeze, lower the worker number to avoid potential slowness/freeze if necessary.\n",
            "  cpuset_checked))\n"
          ]
        },
        {
          "output_type": "stream",
          "name": "stdout",
          "text": [
            "Epoch: 1, Loss: 1.264259\n",
            "Train Accuracy:  0.53018\n",
            "Validation Accuracy:  0.5097\n",
            "Epoch: 2, Loss: 1.218511\n",
            "Train Accuracy:  0.64614\n",
            "Validation Accuracy:  0.5985\n",
            "Epoch: 3, Loss: 0.959032\n",
            "Train Accuracy:  0.7185\n",
            "Validation Accuracy:  0.6429\n",
            "Epoch: 4, Loss: 0.728610\n",
            "Train Accuracy:  0.75776\n",
            "Validation Accuracy:  0.6578\n",
            "Epoch: 5, Loss: 0.651126\n",
            "Train Accuracy:  0.80684\n",
            "Validation Accuracy:  0.6818\n",
            "Epoch: 6, Loss: 0.725121\n",
            "Train Accuracy:  0.8402\n",
            "Validation Accuracy:  0.6862\n",
            "Epoch: 7, Loss: 0.455695\n",
            "Train Accuracy:  0.886\n",
            "Validation Accuracy:  0.7018\n",
            "Epoch: 8, Loss: 0.407243\n",
            "Train Accuracy:  0.8852\n",
            "Validation Accuracy:  0.6971\n",
            "Epoch: 9, Loss: 0.385454\n",
            "Train Accuracy:  0.92204\n",
            "Validation Accuracy:  0.7042\n",
            "Epoch: 10, Loss: 0.319201\n",
            "Train Accuracy:  0.93278\n",
            "Validation Accuracy:  0.6998\n",
            "Epoch: 11, Loss: 0.290664\n",
            "Train Accuracy:  0.94654\n",
            "Validation Accuracy:  0.7096\n",
            "Epoch: 12, Loss: 0.236316\n",
            "Train Accuracy:  0.94786\n",
            "Validation Accuracy:  0.7006\n",
            "Epoch: 13, Loss: 0.211176\n",
            "Train Accuracy:  0.95728\n",
            "Validation Accuracy:  0.7117\n",
            "Epoch: 14, Loss: 0.210174\n",
            "Train Accuracy:  0.96406\n",
            "Validation Accuracy:  0.7134\n",
            "Epoch: 15, Loss: 0.194486\n",
            "Train Accuracy:  0.9692\n",
            "Validation Accuracy:  0.7106\n",
            "Epoch: 16, Loss: 0.209385\n",
            "Train Accuracy:  0.9717\n",
            "Validation Accuracy:  0.7088\n",
            "Epoch: 17, Loss: 0.126813\n",
            "Train Accuracy:  0.97176\n",
            "Validation Accuracy:  0.7129\n",
            "Epoch: 18, Loss: 0.181479\n",
            "Train Accuracy:  0.9688\n",
            "Validation Accuracy:  0.7142\n",
            "Epoch: 19, Loss: 0.103746\n",
            "Train Accuracy:  0.97498\n",
            "Validation Accuracy:  0.712\n",
            "Epoch: 20, Loss: 0.062856\n",
            "Train Accuracy:  0.98468\n",
            "Validation Accuracy:  0.7235\n",
            "Epoch: 21, Loss: 0.098593\n",
            "Train Accuracy:  0.97914\n",
            "Validation Accuracy:  0.7213\n",
            "Epoch: 22, Loss: 0.088148\n",
            "Train Accuracy:  0.9796\n",
            "Validation Accuracy:  0.7216\n",
            "Epoch: 23, Loss: 0.046637\n",
            "Train Accuracy:  0.98852\n",
            "Validation Accuracy:  0.724\n",
            "Epoch: 24, Loss: 0.080019\n",
            "Train Accuracy:  0.98192\n",
            "Validation Accuracy:  0.7221\n",
            "Epoch: 25, Loss: 0.035796\n",
            "Train Accuracy:  0.98714\n",
            "Validation Accuracy:  0.7269\n",
            "Epoch: 26, Loss: 0.074200\n",
            "Train Accuracy:  0.9855\n",
            "Validation Accuracy:  0.7258\n",
            "Epoch: 27, Loss: 0.096889\n",
            "Train Accuracy:  0.98718\n",
            "Validation Accuracy:  0.731\n",
            "Epoch: 28, Loss: 0.042871\n",
            "Train Accuracy:  0.9904\n",
            "Validation Accuracy:  0.7214\n",
            "Epoch: 29, Loss: 0.079284\n",
            "Train Accuracy:  0.99058\n",
            "Validation Accuracy:  0.7332\n",
            "Epoch: 30, Loss: 0.062914\n",
            "Train Accuracy:  0.99372\n",
            "Validation Accuracy:  0.7338\n",
            "Epoch: 31, Loss: 0.018604\n",
            "Train Accuracy:  0.99362\n",
            "Validation Accuracy:  0.7377\n",
            "Epoch: 32, Loss: 0.034585\n",
            "Train Accuracy:  0.99456\n",
            "Validation Accuracy:  0.7351\n",
            "Epoch: 33, Loss: 0.039273\n",
            "Train Accuracy:  0.98936\n",
            "Validation Accuracy:  0.7275\n",
            "Epoch: 34, Loss: 0.057027\n",
            "Train Accuracy:  0.99224\n",
            "Validation Accuracy:  0.7354\n",
            "Epoch: 35, Loss: 0.031070\n",
            "Train Accuracy:  0.99442\n",
            "Validation Accuracy:  0.7348\n",
            "Epoch: 36, Loss: 0.070517\n",
            "Train Accuracy:  0.99572\n",
            "Validation Accuracy:  0.738\n",
            "Epoch: 37, Loss: 0.021992\n",
            "Train Accuracy:  0.99352\n",
            "Validation Accuracy:  0.7276\n",
            "Epoch: 38, Loss: 0.046262\n",
            "Train Accuracy:  0.99424\n",
            "Validation Accuracy:  0.7312\n",
            "Epoch: 39, Loss: 0.024275\n",
            "Train Accuracy:  0.99644\n",
            "Validation Accuracy:  0.7361\n",
            "Epoch: 40, Loss: 0.008585\n",
            "Train Accuracy:  0.99698\n",
            "Validation Accuracy:  0.7382\n",
            "Epoch: 41, Loss: 0.039322\n",
            "Train Accuracy:  0.99652\n",
            "Validation Accuracy:  0.7335\n",
            "Epoch: 42, Loss: 0.009255\n",
            "Train Accuracy:  0.9986\n",
            "Validation Accuracy:  0.7447\n",
            "Epoch: 43, Loss: 0.006113\n",
            "Train Accuracy:  0.99976\n",
            "Validation Accuracy:  0.7503\n",
            "Epoch: 44, Loss: 0.000819\n",
            "Train Accuracy:  0.99996\n",
            "Validation Accuracy:  0.7502\n",
            "Epoch: 45, Loss: 0.000578\n",
            "Train Accuracy:  1.0\n",
            "Validation Accuracy:  0.7525\n",
            "Epoch: 46, Loss: 0.000378\n",
            "Train Accuracy:  1.0\n",
            "Validation Accuracy:  0.755\n",
            "Epoch: 47, Loss: 0.000470\n",
            "Train Accuracy:  1.0\n",
            "Validation Accuracy:  0.7547\n",
            "Epoch: 48, Loss: 0.000416\n",
            "Train Accuracy:  1.0\n",
            "Validation Accuracy:  0.7553\n",
            "Epoch: 49, Loss: 0.000406\n",
            "Train Accuracy:  1.0\n",
            "Validation Accuracy:  0.7554\n",
            "Epoch: 50, Loss: 0.000556\n",
            "Train Accuracy:  1.0\n",
            "Validation Accuracy:  0.7554\n"
          ]
        }
      ]
    },
    {
      "cell_type": "code",
      "source": [
        "print('The Maximum validation accuracy achieved is: ', max_validation, ' at ', max_epoch, ' epoch.')\n"
      ],
      "metadata": {
        "colab": {
          "base_uri": "https://localhost:8080/"
        },
        "id": "BvU7LnqWZu7H",
        "outputId": "960f4563-9b39-4246-e25a-0b5248a1dd1f"
      },
      "execution_count": null,
      "outputs": [
        {
          "output_type": "stream",
          "name": "stdout",
          "text": [
            "The Maximum validation accuracy achieved is:  0.7554  at  49  epoch.\n"
          ]
        }
      ]
    },
    {
      "cell_type": "code",
      "source": [
        "plt.plot(epochs, val_accuracy, 'rs--', label = 'validation')\n",
        "plt.plot(epochs, train_accuracy, 'b^--', label = 'training')\n",
        "plt.yscale('log')\n",
        "plt.xlabel('epochs->')\n",
        "plt.ylabel('accuracy(0-1)->')\n",
        "plt.title('Accuracy vs epochs for ResNet18 on CIFAR10 dataset')\n",
        "plt.legend()\n",
        "plt.grid(axis = 'both')\n",
        "plt.show()"
      ],
      "metadata": {
        "colab": {
          "base_uri": "https://localhost:8080/",
          "height": 295
        },
        "id": "e8gHYy5N4GgT",
        "outputId": "ab3290fd-c15c-4ecb-9825-380f64029ce6"
      },
      "execution_count": null,
      "outputs": [
        {
          "output_type": "display_data",
          "data": {
            "image/png": "[encoded data removed]",
            "text/plain": [
              "<Figure size 432x288 with 1 Axes>"
            ]
          },
          "metadata": {
            "needs_background": "light"
          }
        }
      ]
    }
  ],
  "metadata": {
    "kernelspec": {
      "display_name": "Python 3",
      "language": "python",
      "name": "python3"
    },
    "language_info": {
      "codemirror_mode": {
        "name": "ipython",
        "version": 3
      },
      "file_extension": ".py",
      "mimetype": "text/x-python",
      "name": "python",
      "nbconvert_exporter": "python",
      "pygments_lexer": "ipython3",
      "version": "3.8.5"
    },
    "colab": {
      "name": "Assignment2_Problem2_Part1.ipynb",
      "provenance": [],
      "collapsed_sections": []
    },
    "accelerator": "GPU"
  },
  "nbformat": 4,
  "nbformat_minor": 0
}